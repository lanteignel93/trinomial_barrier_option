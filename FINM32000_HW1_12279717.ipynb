{
 "cells": [
  {
   "cell_type": "code",
   "execution_count": 1,
   "metadata": {},
   "outputs": [],
   "source": [
    "import numpy as np\n",
    "from scipy.stats import norm\n",
    "from scipy.optimize import bisect, brentq\n",
    "import math"
   ]
  },
  {
   "cell_type": "code",
   "execution_count": 2,
   "metadata": {},
   "outputs": [],
   "source": [
    "class Contract:\n",
    "    pass\n",
    "\n",
    "hw1contract=Contract()\n",
    "hw1contract.K = 95\n",
    "hw1contract.T = 0.25\n",
    "hw1contract.H = 114\n",
    "hw1contract.observationinterval = 0.02"
   ]
  },
  {
   "cell_type": "code",
   "execution_count": 3,
   "metadata": {},
   "outputs": [],
   "source": [
    "class Dynamics:\n",
    "    pass\n",
    "hw1dynamics=Dynamics()\n",
    "hw1dynamics.S0 = 100\n",
    "hw1dynamics.sigma = 0.4\n",
    "hw1dynamics.r = 0"
   ]
  },
  {
   "cell_type": "code",
   "execution_count": 4,
   "metadata": {},
   "outputs": [],
   "source": [
    "class Tree:\n",
    "    pass\n",
    "hw1tree=Tree()\n",
    "hw1tree.N=10000"
   ]
  },
  {
   "cell_type": "markdown",
   "metadata": {},
   "source": [
    "# Question 1\n",
    "## a)"
   ]
  },
  {
   "cell_type": "code",
   "execution_count": 5,
   "metadata": {},
   "outputs": [
    {
     "name": "stdout",
     "output_type": "stream",
     "text": [
      "Monitered Price at time:  0.24000000000000002\n",
      "Monitered Price at time:  0.22\n",
      "Monitered Price at time:  0.2\n",
      "Monitered Price at time:  0.18000000000000002\n",
      "Monitered Price at time:  0.16\n",
      "Monitered Price at time:  0.14\n",
      "Monitered Price at time:  0.12000000000000001\n",
      "Monitered Price at time:  0.1\n",
      "Monitered Price at time:  0.08\n",
      "Monitered Price at time:  0.060000000000000005\n",
      "Monitered Price at time:  0.04\n",
      "Monitered Price at time:  0.02\n",
      "Price of knock-out put option is : 5.1596\n"
     ]
    }
   ],
   "source": [
    "def barrier_trinom_pricer(dynamics, contract, tree, knock_out = True):\n",
    "    \n",
    "    S0, sigma, r = dynamics.S0, dynamics.sigma, dynamics.r\n",
    "    K, T, H, interval  = contract.K, contract.T, contract.H, contract.observationinterval\n",
    "    N = tree.N\n",
    "\n",
    "    deltat =  T/N\n",
    "    deltax =  sigma*np.sqrt(3*deltat)\n",
    "    \n",
    "    S=S0*np.exp(np.linspace(N, -N, num=2*N+1, endpoint=True)*deltax)  \n",
    "    #Here I decided to make the SMALLER indexes in this array correspond to HIGHER S\n",
    "\n",
    "    if abs(interval/deltat-round(interval/deltat)) > 1e-12:\n",
    "        raise ValueError(\"This value of N fails to place the observation dates in the tree.\")\n",
    "\n",
    "    nu =       r - (sigma**2)/2\n",
    "    Pu =       0.5*(((sigma**2 * deltat) + nu**2*deltat**2)/(deltax**2)+(nu*deltat)/deltax)\n",
    "    Pd =       0.5*(((sigma**2 * deltat) + nu**2*deltat**2)/(deltax**2)-(nu*deltat)/deltax)\n",
    "    Pm =       1-Pu-Pd\n",
    "        \n",
    "    optionprice = np.maximum(K-S,0)   #an array of time-T option prices.\n",
    "        \n",
    "    #Next, induct backwards to time 0, updating the optionprice array \n",
    "    #Hint: if x is an array, then what are x[2:] and x[1:-1] and x[:-2]\n",
    "    for k in range(N-1,-1,-1):\n",
    "        t = k*deltat\n",
    "        for j in range(2*k-1):\n",
    "            # Check if knock-out option and if we are on one of the discretely-monitered price\n",
    "            if math.modf(t/interval)[0] < 0.0001 and knock_out is True:\n",
    "                # calculate stock price for all the nodes of the tree for that time\n",
    "                S=S0*np.exp(np.linspace(k, -k, num=2*k+1, endpoint=True)*deltax)\n",
    "                # if stock price higher than the barrier then option price for that node is 0 \n",
    "                if S[j] > H:\n",
    "                    optionprice[j] = 0 \n",
    "                else:\n",
    "                    up = optionprice[j]\n",
    "                    mid = optionprice[j+1]\n",
    "                    down = optionprice[j+2]\n",
    "                    discount = np.exp(-r*deltat)\n",
    "                    optionprice[j] = discount*(Pu*up + Pm*mid + Pd*down)\n",
    "            # How we compute the stock price regularly \n",
    "            else:\n",
    "                up = optionprice[j]\n",
    "                mid = optionprice[j+1]\n",
    "                down = optionprice[j+2]\n",
    "                discount = np.exp(-r*deltat)\n",
    "                optionprice[j] = discount*(Pu*up + Pm*mid + Pd*down)\n",
    "        \n",
    "    return optionprice[0]   \n",
    "    #The [0] is assuming that we are shrinking the optionprice array in each iteration of the loop,\n",
    "    #until finally there is only 1 element in the array.\n",
    "    #If instead you are keeping unchanged the size of the optionprice array in each iteration, \n",
    "    #then you need to change the [0] to a different index.\n",
    "\n",
    "price_knockout = barrier_trinom_pricer(hw1dynamics, hw1contract, hw1tree)\n",
    "print(\"Price of knock-out put option is : {:.4f}\".format(price_knockout))"
   ]
  },
  {
   "cell_type": "markdown",
   "metadata": {},
   "source": [
    "## b)\n",
    "Given that the price of a knock-in put option plus the price of a knock-out put option should be equal to the price of a regular put options we have "
   ]
  },
  {
   "cell_type": "code",
   "execution_count": 6,
   "metadata": {},
   "outputs": [
    {
     "name": "stdout",
     "output_type": "stream",
     "text": [
      "Price of knock-in put option is : 0.2355\n"
     ]
    }
   ],
   "source": [
    "price_put = barrier_trinom_pricer(hw1dynamics, hw1contract, hw1tree, knock_out = False)\n",
    "price_knockin = price_put - price_knockout\n",
    "print(\"Price of knock-in put option is : {:.4f}\".format(price_knockin))"
   ]
  },
  {
   "cell_type": "markdown",
   "metadata": {},
   "source": [
    "## c)\n",
    "\n",
    "### c1) \n",
    "The time-0 price of the continuously-monitored barrier option will be smaller than the time-0 price of the discretely-monitered option because on top of adding constraints on the potential stock paths that results in a non-zero option price we are checking whether the stock price is above the barrier at same time than the discrete those. In other terms, the continuously-monitored barrier option is the discretely-monitered option + the added constraints that between the intervals if the stock price goes higher than the barrier than the resulting option price is 0. We are thus adding constraints that reduces the amounts of stock paths that result in a non-zero payout so the price needs to be lower. "
   ]
  },
  {
   "cell_type": "markdown",
   "metadata": {},
   "source": [
    "### c2)\n",
    "\n",
    "We require that $P(K=95,T=t) = \\alpha \\cdot C(K=136.8, T=t) \\; \\forall t\\in[0,0.25]$ this is solvable since we have that $r=0$ in this framework. We will solve this by solving the value of both options whenever S = 114. Since this needs to work $\\forall t\\in[0,0.25]$, we can solve it for $t=0$.\n",
    "\n",
    "$$ K\\cdot N(-d_2^p) - S_0 \\cdot N(-d_1^p)= \\alpha\\left(S_0 \\cdot N(d_1^c) - K \\cdot N(d_2^c)\\right) $$\n",
    "$$ 95\\cdot N(-d_2^p) - 114 \\cdot N(-d_1^p)= \\alpha\\left(114 \\cdot N(d_1^c) - 136.8 \\cdot N(d_2^c)\\right) $$\n",
    "\n",
    "Note that \n",
    "$$\\log\\left(\\frac{114}{136.8}\\right) = -\\log\\left(\\frac{114}{95}\\right) $$\n",
    "\n",
    "$$ d_1^p = \\frac{\\log\\left(\\frac{114}{95}\\right)}{0.4\\cdot\\sqrt{T}} + \\frac{0.4\\cdot\\sqrt{T}}{2} = - \\left(\\frac{\\log\\left(\\frac{136.8}{114}\\right)}{0.4\\cdot\\sqrt{T}} - \\frac{0.4\\cdot\\sqrt{T}}{2}\\right) = -d_2^c $$\n",
    "\n",
    "$$ d_1^c = \\frac{\\log\\left(\\frac{136.8}{114}\\right)}{0.4\\cdot\\sqrt{T}} + \\frac{0.4\\cdot\\sqrt{T}}{2} = - \\left(\\frac{\\log\\left(\\frac{114}{95}\\right)}{0.4\\cdot\\sqrt{T}} - \\frac{0.4\\cdot\\sqrt{T}}{2}\\right) = -d_2^p $$\n",
    "\n",
    "$$ 95\\cdot N(d_1^c) - 114 \\cdot N(d_2^c)= \\alpha\\left(114 \\cdot N(d_1^c) - 136.8 \\cdot N(d_2^c)\\right) $$\n",
    "\n",
    "$$ \\therefore \\alpha = \\frac{95}{114} = \\frac{114}{136.8} = \\frac{5}{6} $$"
   ]
  },
  {
   "cell_type": "markdown",
   "metadata": {},
   "source": [
    "# Question 2)\n",
    "\n",
    "## a) \n",
    "\n",
    "One could find a continuous function $\\sigma(t)$ such that the $\\sigma$ varies along time to fit observable data in the market. Replacing the standard $\\sigma$ by this $\\sigma(t)$ in the classic stock price dynamics under BS model $dS_t = rS_tdt + \\sigma(t)S_tdW_t$ could explain the term-structure of implied volatility. But, in reality we not only observe a change of volatility over time but also a change of volatility of strike prices. The combination of both shapes the structure of the surface volatility. In order to account for that dimension, we would require that our volatility function be also a parameter of the strike price $K$ such that $\\sigma(t) \\rightarrow \\sigma(t,K)$."
   ]
  },
  {
   "cell_type": "markdown",
   "metadata": {},
   "source": [
    "## b)"
   ]
  },
  {
   "cell_type": "code",
   "execution_count": 7,
   "metadata": {},
   "outputs": [],
   "source": [
    "def BScallPrice(sigma,S,rGrow,r,K,T):\n",
    "    F=S*np.exp(rGrow*T)\n",
    "    sd = sigma*np.sqrt(T)\n",
    "    d1 = np.log(F/K)/sd+sd/2\n",
    "    d2 = d1-sd\n",
    "    return np.exp(-r*T)*(F*norm.cdf(d1)-K*norm.cdf(d2))"
   ]
  },
  {
   "cell_type": "code",
   "execution_count": 8,
   "metadata": {},
   "outputs": [],
   "source": [
    "def IVofCall(C,S,rGrow,r,K,T):\n",
    "    F=S*np.exp(rGrow*T)\n",
    "    lowerbound = np.max([0,(F-K)*np.exp(-r*T)])\n",
    "    if C<lowerbound:\n",
    "        return np.nan\n",
    "    if C==lowerbound:\n",
    "        return 0\n",
    "    if C>=F*np.exp(-r*T):\n",
    "        return np.nan \n",
    "    hi=0.2\n",
    "    while BScallPrice(hi,S,rGrow,r,K,T)>C:\n",
    "        hi=hi/2\n",
    "    while BScallPrice(hi,S,rGrow,r,K,T)<C:\n",
    "        hi=hi*2\n",
    "    lo=hi/2\n",
    "    \n",
    "    vol = hi\n",
    "    while abs(BScallPrice(vol,S,rGrow,r,K,T)-C) > 0.0001:\n",
    "        vol = (lo + hi)/2 \n",
    "        if BScallPrice(vol,S,rGrow,r,K,T) > C:\n",
    "            hi = vol\n",
    "        else:\n",
    "            lo = vol\n",
    "    \n",
    "    impliedVolatility = vol \n",
    "                            \n",
    "    return impliedVolatility"
   ]
  },
  {
   "cell_type": "code",
   "execution_count": 9,
   "metadata": {},
   "outputs": [
    {
     "name": "stdout",
     "output_type": "stream",
     "text": [
      "B-S implied volatility for an ATM Call Option with Expirty Time=0.1 is equal to: 0.3973\n",
      "B-S implied volatility for an ATM Call Option with Expirty Time=0.2 is equal to: 0.3802\n",
      "B-S implied volatility for an ATM Call Option with Expirty Time=0.5 is equal to: 0.2951\n"
     ]
    }
   ],
   "source": [
    "T = [0.1, 0.2, 0.5]\n",
    "C = [5.25, 7.25, 9.5]\n",
    "sigma = []\n",
    "\n",
    "for i in range(len(T)):\n",
    "    sigma.append(IVofCall(C[i], 100, 0.05,0.05,100,T[i]))\n",
    "    print(\"B-S implied volatility for an ATM Call Option with Expiry Time={:.1f} is equal to: {:.4f}\".format(T[i], sigma[i]))"
   ]
  },
  {
   "cell_type": "code",
   "execution_count": 10,
   "metadata": {},
   "outputs": [],
   "source": [
    "import pandas as pd\n",
    "import matplotlib.pyplot as plt\n",
    "from scipy import stats"
   ]
  },
  {
   "cell_type": "code",
   "execution_count": 11,
   "metadata": {},
   "outputs": [
    {
     "data": {
      "image/png": "[encoded data removed]",
      "text/plain": [
       "<Figure size 432x288 with 1 Axes>"
      ]
     },
     "metadata": {
      "needs_background": "light"
     },
     "output_type": "display_data"
    }
   ],
   "source": [
    "pd.Series(sigma, index = T).plot()\n",
    "plt.show()"
   ]
  },
  {
   "cell_type": "markdown",
   "metadata": {},
   "source": [
    "Based on the above graph, we can assume a linear regression would work well for values between 0 and 0.5. "
   ]
  },
  {
   "cell_type": "code",
   "execution_count": 12,
   "metadata": {},
   "outputs": [],
   "source": [
    "slope, intercept, r_value, p_value, std_err = stats.linregress(T,sigma)"
   ]
  },
  {
   "cell_type": "code",
   "execution_count": 13,
   "metadata": {},
   "outputs": [
    {
     "data": {
      "image/png": "[encoded data removed]",
      "text/plain": [
       "<Figure size 864x432 with 1 Axes>"
      ]
     },
     "metadata": {
      "needs_background": "light"
     },
     "output_type": "display_data"
    }
   ],
   "source": [
    "t = np.linspace(0.01,0.5,100)\n",
    "local_sig = intercept + slope*t\n",
    "call_prices = []\n",
    "for i in range(len(t)):\n",
    "    call_prices.append(BScallPrice(local_sig[i],100,0.05,0.05,100,t[i]))\n",
    "call_prices = pd.Series(call_prices, index = t)\n",
    "ax = call_prices.plot(title = 'Price of an ATM Call Option as a function of time', figsize = (12,6))\n",
    "ax.set_xlabel(\"Time\")\n",
    "ax.set_ylabel(\"Price $\")\n",
    "plt.show()"
   ]
  },
  {
   "cell_type": "markdown",
   "metadata": {},
   "source": [
    "## c)\n"
   ]
  },
  {
   "cell_type": "code",
   "execution_count": 14,
   "metadata": {},
   "outputs": [
    {
     "name": "stdout",
     "output_type": "stream",
     "text": [
      "Time-0 price of an ATM European Call with expiry T=0.4 is 9.0735\n"
     ]
    }
   ],
   "source": [
    "sigma = intercept + slope*0.4\n",
    "print(\"Time-0 price of an ATM European Call with expiry T=0.4 is {:.4f}\".format(BScallPrice(sigma,100,0.05,0.05,100,0.4)))"
   ]
  }
 ],
 "metadata": {
  "kernelspec": {
   "display_name": "Python 3",
   "language": "python",
   "name": "python3"
  },
  "language_info": {
   "codemirror_mode": {
    "name": "ipython",
    "version": 3
   },
   "file_extension": ".py",
   "mimetype": "text/x-python",
   "name": "python",
   "nbconvert_exporter": "python",
   "pygments_lexer": "ipython3",
   "version": "3.8.10"
  }
 },
 "nbformat": 4,
 "nbformat_minor": 4
}
